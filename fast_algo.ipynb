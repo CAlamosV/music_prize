{
 "cells": [
  {
   "cell_type": "markdown",
   "metadata": {},
   "source": [
    "To have beforehand: \n",
    "- Have ft of all elements in dictionary\n",
    "- Have Python dicitonary mapping indeces of sounds to their convolution\n",
    "\n",
    "We then use the convolution theorem to compute the convolution of the target and all other sounds in the dictionary. This takes $O(DN \\log{N})$ time, where $D$ is the number of sounds in the dictionary and $N$ is the length of the sounds. \n",
    "\n",
    "We store the output in a $(N + l_{max} - 1, D)$ matrix, where $l_{max}$ is the length of the longest sound in the dictionary.\n",
    "\n",
    "We then follow this procedure for $k$ iterations:\n",
    "    1. Sort all the entries in the matrix\n",
    "    2. While the matrix is not empty:\n",
    "        2. Add the max entry to the results array\n",
    "        3. Remove the simultaneous entries from the matrix \n",
    "        4. Add convolution_dict[(i, j)] to matrix_to_subtract\n",
    "        5. Add sound and time to perm_mask\n",
    "    3. Subtract matrix_to_subtract from the matrix\n",
    "    4. Add perm_mask to matrix\n",
    "    \n",
    "The sorting is the most expensive part of this algorithm, and takes\n",
    "\n",
    "\n",
    "We then follow this procedure for $k$ iterations:\n",
    "    1. Add the max entry to the results array\n",
    "    2. Subtract dict projections from the matrix\n",
    "    3. Add sound and time to perm_mask\n",
    "    4. multiply the matrix by perm_mask"
   ]
  },
  {
   "cell_type": "code",
   "execution_count": 1,
   "metadata": {},
   "outputs": [],
   "source": [
    "import numpy as np\n",
    "from scipy.fftpack import fft, ifft\n",
    "from scipy.io import wavfile\n",
    "import sounddevice as sd\n",
    "from multiprocess import Pool, cpu_count\n",
    "import os\n",
    "\n",
    "np.random.seed(0)"
   ]
  },
  {
   "cell_type": "code",
   "execution_count": 48,
   "metadata": {},
   "outputs": [],
   "source": [
    "def load_wav(path, index=[0, -1], verbose=False):\n",
    "    rate, data = wavfile.read(path)\n",
    "    data = data[index[0] : index[1]]\n",
    "    if verbose:\n",
    "        print(\"rate: {}, data shape: {}\".format(rate, data.shape))\n",
    "    norm = np.linalg.norm(data)\n",
    "    data = data.astype(np.float32) / norm\n",
    "    return data, norm\n",
    "\n",
    "\n",
    "def load_wavs_to_list(folder_path):\n",
    "    list_of_sounds = []\n",
    "    for root, dirs, files in os.walk(folder_path):\n",
    "        for file in files:\n",
    "            if file.endswith(\".wav\"):\n",
    "                wav = os.path.join(root, file)\n",
    "                sound, _ = load_wav(wav)\n",
    "                list_of_sounds.append(sound)\n",
    "    return list_of_sounds\n",
    "\n",
    "\n",
    "def compute_coefficients(target, list_of_sounds):\n",
    "    target_length = len(target)\n",
    "    sounds_count = len(list_of_sounds)\n",
    "    sound_lengths = [len(sound) for sound in list_of_sounds]\n",
    "    longest_sound_length = max(sound_lengths)\n",
    "    conv_matrix_width = longest_sound_length + target_length - 1\n",
    "    conv_tesor_width = 2 * longest_sound_length - 1\n",
    "    return (\n",
    "        target_length,\n",
    "        sounds_count,\n",
    "        sound_lengths,\n",
    "        longest_sound_length,\n",
    "        conv_matrix_width,\n",
    "        conv_tesor_width,\n",
    "    )\n",
    "\n",
    "\n",
    "def compute_fts(list_of_sounds, width):\n",
    "    sound_fts = {}\n",
    "    sound_fts_reverse = {}\n",
    "    for i, sound in enumerate(list_of_sounds):\n",
    "        sound_fts[i] = fft(sound, width)\n",
    "        sound_fts_reverse[i] = fft(sound[::-1], width)\n",
    "    return sound_fts, sound_fts_reverse\n",
    "\n",
    "\n",
    "def fft_convolution_for_tensor(args):\n",
    "    i, j, i_ft, j_ft = args\n",
    "    return i, j, np.real(ifft(i_ft * j_ft))\n",
    "\n",
    "\n",
    "def generate_convolution_tensor(\n",
    "    list_of_sounds,\n",
    "    conv_tesor_width,\n",
    "    sound_fts,\n",
    "    sound_fts_reverse,\n",
    "    sounds_count,\n",
    "    verbose=False,\n",
    "):\n",
    "    cpus = min(7, cpu_count())\n",
    "    if verbose:\n",
    "        print(f\"Using {cpus} CPUs\")\n",
    "    convolutions_tensor = np.zeros((sounds_count, sounds_count, conv_tesor_width))\n",
    "    with Pool(cpus) as pool:\n",
    "        for i, j, conv in pool.map(\n",
    "            fft_convolution_for_tensor,\n",
    "            [\n",
    "                (i, j, sound_fts[i], sound_fts_reverse[j])\n",
    "                for i in range(sounds_count)\n",
    "                for j in range(sounds_count)\n",
    "            ],\n",
    "        ):\n",
    "            convolutions_tensor[i, j, :] = conv\n",
    "    return convolutions_tensor\n",
    "\n",
    "\n",
    "def fft_convolution(args):\n",
    "    i, target_ft, sound_fts_reverse = args\n",
    "    return np.real(ifft(target_ft * sound_fts_reverse[i]))\n",
    "\n",
    "\n",
    "def generate_convolution_matrix(\n",
    "    target_ft,\n",
    "    sound_fts_reverse,\n",
    "    verbose=False,\n",
    "):\n",
    "    if target_ft.shape[0] != sound_fts_reverse[0].shape[0]:\n",
    "        raise ValueError(\n",
    "            \"The first dimension of target_ft and sound_fts_reverse[0] must be the same.\"\n",
    "        )\n",
    "\n",
    "    cpus = min(7, cpu_count())\n",
    "    if verbose:\n",
    "        print(f\"Using {cpus} CPUs\")\n",
    "\n",
    "    args = [(i, target_ft, sound_fts_reverse) for i in range(len(sound_fts_reverse))]\n",
    "    with Pool(processes=cpus) as pool:\n",
    "        convolution_matrix = np.array(pool.map(fft_convolution, args))\n",
    "    return convolution_matrix\n",
    "\n",
    "\n",
    "def subtract_projections_onto_result(\n",
    "    i, j, convolution_matrix, convolutions_tensor, lengths, max_val\n",
    "):\n",
    "    sound_conv_matrix = convolutions_tensor[i]\n",
    "    starting_point = max(j - lengths[i] + 1, 0)\n",
    "    end_point = min(\n",
    "        sound_conv_matrix.shape[1] + starting_point, convolution_matrix.shape[1]\n",
    "    )\n",
    "    convolution_matrix[:, starting_point:end_point] -= (\n",
    "        sound_conv_matrix[:, : end_point - starting_point] * max_val\n",
    "    )\n",
    "    return convolution_matrix\n",
    "\n",
    "\n",
    "def get_largest_value_index(matrix):\n",
    "    i, j = np.unravel_index(np.argmax(matrix, axis=None), matrix.shape)\n",
    "    return i, j, matrix[i, j]"
   ]
  },
  {
   "cell_type": "code",
   "execution_count": 75,
   "metadata": {},
   "outputs": [],
   "source": [
    "def run_algo(target, list_of_sounds, iterations, tensor_path=None):\n",
    "    target_norm = np.linalg.norm(target)\n",
    "    target = target.astype(np.float64) / target_norm\n",
    "    for i in range(len(list_of_sounds)):\n",
    "        list_of_sounds[i] = list_of_sounds[i].astype(np.float64) / np.linalg.norm(\n",
    "            list_of_sounds[i]\n",
    "        )\n",
    "    list_of_sounds = sorted(list_of_sounds, key=lambda x: len(x))\n",
    "    (\n",
    "        target_length,\n",
    "        sounds_count,\n",
    "        sound_lengths,\n",
    "        longest_sound_length,\n",
    "        conv_matrix_width,\n",
    "        conv_tensor_width,\n",
    "    ) = compute_coefficients(target, list_of_sounds)\n",
    "    if tensor_path == None:\n",
    "        sound_fts_for_tensor, sound_fts_reverse_for_tensor = compute_fts(\n",
    "            list_of_sounds, conv_tensor_width\n",
    "        )\n",
    "        convolutions_tensor = generate_convolution_tensor(\n",
    "            list_of_sounds,\n",
    "            conv_tensor_width,\n",
    "            sound_fts_for_tensor,\n",
    "            sound_fts_reverse_for_tensor,\n",
    "            sounds_count,\n",
    "        )\n",
    "    else:\n",
    "        convolutions_tensor = np.load(tensor_path)\n",
    "\n",
    "    target_ft = fft(target, conv_matrix_width)\n",
    "    sound_fts, sound_fts_reverse = compute_fts(list_of_sounds, conv_matrix_width)\n",
    "\n",
    "    # print(\"target \", target)\n",
    "    # print(\"sounds \", list_of_sounds)\n",
    "    # print(\"convolutions tensor \\n\", convolutions_tensor)\n",
    "\n",
    "    convolution_matrix = generate_convolution_matrix(target_ft, sound_fts_reverse)\n",
    "    # print(\"Convolution matrix generated\")\n",
    "    # print(convolution_matrix)\n",
    "    result = np.zeros(target_length)\n",
    "    perm_mask = np.zeros((sounds_count, conv_matrix_width), dtype=bool)\n",
    "\n",
    "    for _ in range(iterations):\n",
    "        # get best match and find the corresponding sound\n",
    "        i, j, max_val = get_largest_value_index(convolution_matrix * ~perm_mask)\n",
    "        # print(\"i, j, max_val\", i, j, max_val)\n",
    "        l = sound_lengths[i]\n",
    "        start_time, end_time = max(j - l + 1, 0), min(j + 1, target_length)\n",
    "        clip_start = max(-(j - l + 1), 0)\n",
    "        clip_end = min(clip_start + end_time - start_time, l)\n",
    "        matched_sound = list_of_sounds[i][clip_start:clip_end]\n",
    "        # print(\"matched sound \", matched_sound)\n",
    "\n",
    "        # update result and target\n",
    "        result[start_time:end_time] += matched_sound * max_val\n",
    "        target[start_time:end_time] -= matched_sound * max_val\n",
    "\n",
    "        # compute new convolution matrix\n",
    "        # print(\"result \", result)\n",
    "        # print(\"new target \", target)\n",
    "        convolution_matrix1 = subtract_projections_onto_result(\n",
    "            i, j, convolution_matrix, convolutions_tensor, sound_lengths, max_val\n",
    "        )\n",
    "        # print(\"convolution matrix after subtraction \\n\", convolution_matrix1)\n",
    "\n",
    "        # compute convolution matrix v2\n",
    "        target_ft = fft(target, conv_matrix_width)\n",
    "        convolution_matrix = generate_convolution_matrix(target_ft, sound_fts_reverse)\n",
    "        # print(\"convolution matrix computed from target \\n\", convolution_matrix)\n",
    "\n",
    "        match = np.isclose(convolution_matrix, convolution_matrix1)\n",
    "        # print(\"matrix match \\n\", match)\n",
    "        if not match.all():\n",
    "            print(\"matrix match failed\")\n",
    "            break\n",
    "\n",
    "        # update perm mask\n",
    "        end_perm_mask = min(\n",
    "            start_time + 2 * (end_time - start_time) - 1, conv_matrix_width\n",
    "        )\n",
    "        perm_mask[i, start_time:end_perm_mask] = True\n",
    "        # print(\"perm mask \\n\", perm_mask * 1)\n",
    "\n",
    "    return result * target_norm"
   ]
  },
  {
   "cell_type": "code",
   "execution_count": 101,
   "metadata": {},
   "outputs": [],
   "source": [
    "import time\n",
    "\n",
    "\n",
    "def run_algo(target, list_of_sounds, iterations, tensor_path=None):\n",
    "    time_data = {}\n",
    "    square_distance = []\n",
    "\n",
    "    # 1\n",
    "    s = time.time()\n",
    "    target_norm = np.linalg.norm(target)\n",
    "    target = target.astype(np.float64) / target_norm\n",
    "    original_target = target.copy()\n",
    "    for i in range(len(list_of_sounds)):\n",
    "        list_of_sounds[i] = list_of_sounds[i].astype(np.float64) / np.linalg.norm(\n",
    "            list_of_sounds[i]\n",
    "        )\n",
    "    list_of_sounds = sorted(list_of_sounds, key=lambda x: len(x))\n",
    "    (\n",
    "        target_length,\n",
    "        sounds_count,\n",
    "        sound_lengths,\n",
    "        longest_sound_length,\n",
    "        conv_matrix_width,\n",
    "        conv_tensor_width,\n",
    "    ) = compute_coefficients(target, list_of_sounds)\n",
    "    time_data[1] = time.time() - s\n",
    "\n",
    "    # 2\n",
    "    s = time.time()\n",
    "    if tensor_path == None:\n",
    "        sound_fts_for_tensor, sound_fts_reverse_for_tensor = compute_fts(\n",
    "            list_of_sounds, conv_tensor_width\n",
    "        )\n",
    "        convolutions_tensor = generate_convolution_tensor(\n",
    "            list_of_sounds,\n",
    "            conv_tensor_width,\n",
    "            sound_fts_for_tensor,\n",
    "            sound_fts_reverse_for_tensor,\n",
    "            sounds_count,\n",
    "        )\n",
    "    else:\n",
    "        convolutions_tensor = np.load(tensor_path)\n",
    "    time_data[2] = time.time() - s\n",
    "\n",
    "    # 3\n",
    "    s = time.time()\n",
    "    target_ft = fft(target, conv_matrix_width)\n",
    "    sound_fts, sound_fts_reverse = compute_fts(list_of_sounds, conv_matrix_width)\n",
    "    time_data[3] = time.time() - s\n",
    "\n",
    "    # 4\n",
    "    s = time.time()\n",
    "    convolution_matrix = generate_convolution_matrix(target_ft, sound_fts_reverse)\n",
    "    result = np.zeros(target_length)\n",
    "    perm_mask = np.zeros((sounds_count, conv_matrix_width), dtype=bool)\n",
    "    time_data[4] = time.time() - s\n",
    "\n",
    "    for _ in range(iterations):\n",
    "        # 5\n",
    "        s = time.time()\n",
    "        i, j, max_val = get_largest_value_index(convolution_matrix * ~perm_mask)\n",
    "        l = sound_lengths[i]\n",
    "        start_time, end_time = max(j - l + 1, 0), min(j + 1, target_length)\n",
    "        clip_start = max(-(j - l + 1), 0)\n",
    "        clip_end = min(clip_start + end_time - start_time, l)\n",
    "        matched_sound = list_of_sounds[i][clip_start:clip_end]\n",
    "        time_data[5] = time_data.get(5, 0) + (time.time() - s)\n",
    "\n",
    "        # update result and target\n",
    "        result[start_time:end_time] += matched_sound * max_val\n",
    "        target[start_time:end_time] -= matched_sound * max_val\n",
    "\n",
    "        # 6\n",
    "        s = time.time()\n",
    "        convolution_matrix = subtract_projections_onto_result(\n",
    "            i, j, convolution_matrix, convolutions_tensor, sound_lengths, max_val\n",
    "        )\n",
    "        time_data[6] = time_data.get(6, 0) + (time.time() - s)\n",
    "\n",
    "        # 7\n",
    "        # s = time.time()\n",
    "        # target_ft = fft(target, conv_matrix_width)\n",
    "        # convolution_matrix1 = generate_convolution_matrix(target_ft, sound_fts_reverse)\n",
    "        # time_data[7] = time_data.get(7, 0) + (time.time() - s)\n",
    "\n",
    "        # 8\n",
    "        # s = time.time()\n",
    "        # match = np.isclose(convolution_matrix, convolution_matrix1)\n",
    "        # if not match.all():\n",
    "        # print(\"matrix match failed\")\n",
    "        # print(_)\n",
    "        # print where values are not close and the difference\n",
    "        # print(convolution_matrix[~match] - convolution_matrix1[~match])\n",
    "        # break\n",
    "        #    pass\n",
    "        # time_data[8] = time_data.get(8, 0) + (time.time() - s)\n",
    "\n",
    "        # update perm mask\n",
    "        end_perm_mask = min(\n",
    "            start_time + 2 * (end_time - start_time) - 1, conv_matrix_width\n",
    "        )\n",
    "        perm_mask[i, start_time:end_perm_mask] = True\n",
    "\n",
    "        square_distance.append(np.linalg.norm(original_target - result))\n",
    "\n",
    "    for key, value in time_data.items():\n",
    "        print(\n",
    "            f\"Component {key}: Average time over iterations = {value / iterations:.5f} seconds\"\n",
    "        )\n",
    "\n",
    "    return result * target_norm, square_distance"
   ]
  },
  {
   "cell_type": "code",
   "execution_count": 106,
   "metadata": {},
   "outputs": [
    {
     "name": "stdout",
     "output_type": "stream",
     "text": [
      "Component 1: Average time over iterations = 0.00000 seconds\n",
      "Component 2: Average time over iterations = 0.00013 seconds\n",
      "Component 3: Average time over iterations = 0.00003 seconds\n",
      "Component 4: Average time over iterations = 0.00024 seconds\n",
      "Component 5: Average time over iterations = 0.00032 seconds\n",
      "Component 6: Average time over iterations = 0.00002 seconds\n"
     ]
    }
   ],
   "source": [
    "np.set_printoptions(formatter={\"float_kind\": lambda x: \"%.2f\" % x})\n",
    "# target 1000 long, 3 sounds, 1000 long\n",
    "target = np.random.rand(10000)\n",
    "list_of_sounds = [np.random.rand(100) for _ in range(30)]\n",
    "iterations = 1000\n",
    "result, square_distance = run_algo(target, list_of_sounds, iterations)"
   ]
  },
  {
   "cell_type": "code",
   "execution_count": 107,
   "metadata": {},
   "outputs": [
    {
     "data": {
      "image/png": "[encoded data removed]",
      "text/plain": [
       "<Figure size 640x480 with 1 Axes>"
      ]
     },
     "metadata": {},
     "output_type": "display_data"
    }
   ],
   "source": [
    "# plot square distance\n",
    "import matplotlib.pyplot as plt\n",
    "\n",
    "plt.plot(square_distance)\n",
    "plt.xlabel(\"Iteration\")\n",
    "plt.ylabel(\"Square Distance\")\n",
    "plt.show()"
   ]
  },
  {
   "cell_type": "code",
   "execution_count": null,
   "metadata": {},
   "outputs": [],
   "source": []
  },
  {
   "cell_type": "code",
   "execution_count": null,
   "metadata": {},
   "outputs": [],
   "source": []
  },
  {
   "cell_type": "code",
   "execution_count": 70,
   "metadata": {},
   "outputs": [],
   "source": [
    "# target, target_norm = load_wav(target_path, [0, 160000], verbose=True)\n",
    "# list_of_sounds = load_wavs_to_list(sounds_path)\n",
    "# iterations = 10\n",
    "# run_algo(target, list_of_sounds, iterations, tensor_path=\"convolutions_tensor.npy\")"
   ]
  },
  {
   "cell_type": "code",
   "execution_count": 44,
   "metadata": {},
   "outputs": [
    {
     "name": "stdout",
     "output_type": "stream",
     "text": [
      "target: [0.40824829 0.40824829 0.81649658]\n",
      "sound_dict: [array([1.]), array([0.89442719, 0.4472136 ])]\n"
     ]
    },
    {
     "ename": "NameError",
     "evalue": "name 'generate_convolution_dict_parallelized' is not defined",
     "output_type": "error",
     "traceback": [
      "\u001b[0;31m---------------------------------------------------------------------------\u001b[0m",
      "\u001b[0;31mNameError\u001b[0m                                 Traceback (most recent call last)",
      "\u001b[1;32m/Users/calamos/Desktop/music_prize/fast_algo.ipynb Cell 7\u001b[0m line \u001b[0;36m2\n\u001b[1;32m     <a href='vscode-notebook-cell:/Users/calamos/Desktop/music_prize/fast_algo.ipynb#X11sZmlsZQ%3D%3D?line=20'>21</a>\u001b[0m     sound_fts[i] \u001b[39m=\u001b[39m fft(sound, conv_tensor_width)\n\u001b[1;32m     <a href='vscode-notebook-cell:/Users/calamos/Desktop/music_prize/fast_algo.ipynb#X11sZmlsZQ%3D%3D?line=21'>22</a>\u001b[0m     sound_fts_reverse[i] \u001b[39m=\u001b[39m fft(sound[::\u001b[39m-\u001b[39m\u001b[39m1\u001b[39m], conv_tensor_width)\n\u001b[0;32m---> <a href='vscode-notebook-cell:/Users/calamos/Desktop/music_prize/fast_algo.ipynb#X11sZmlsZQ%3D%3D?line=23'>24</a>\u001b[0m convolutions_tensor \u001b[39m=\u001b[39m generate_convolution_dict_parallelized()\n\u001b[1;32m     <a href='vscode-notebook-cell:/Users/calamos/Desktop/music_prize/fast_algo.ipynb#X11sZmlsZQ%3D%3D?line=24'>25</a>\u001b[0m \u001b[39mprint\u001b[39m(convolutions_tensor)\n\u001b[1;32m     <a href='vscode-notebook-cell:/Users/calamos/Desktop/music_prize/fast_algo.ipynb#X11sZmlsZQ%3D%3D?line=26'>27</a>\u001b[0m sound_fts \u001b[39m=\u001b[39m {}\n",
      "\u001b[0;31mNameError\u001b[0m: name 'generate_convolution_dict_parallelized' is not defined"
     ]
    }
   ],
   "source": [
    "# toy example for debugging\n",
    "target = np.array([1, 1, 2])\n",
    "sound_dict = [np.array([1]), np.array([2, 1])]\n",
    "target = target.astype(np.float64) / np.linalg.norm(target)\n",
    "for i in range(len(sound_dict)):\n",
    "    sound_dict[i] = sound_dict[i].astype(np.float64) / np.linalg.norm(sound_dict[i])\n",
    "print(\"target:\", target)\n",
    "print(\"sound_dict:\", sound_dict)\n",
    "lengths = [len(sound) for sound in sound_dict]\n",
    "l_max = max(lengths)\n",
    "D = len(sound_dict)\n",
    "N = len(target)\n",
    "conv_matrix_width = l_max + N - 1\n",
    "\n",
    "conv_tensor_width = 2 * l_max - 1\n",
    "\n",
    "target_ft = fft(target, conv_matrix_width)\n",
    "sound_fts = {}\n",
    "sound_fts_reverse = {}\n",
    "for i, sound in enumerate(sound_dict):\n",
    "    sound_fts[i] = fft(sound, conv_tensor_width)\n",
    "    sound_fts_reverse[i] = fft(sound[::-1], conv_tensor_width)\n",
    "\n",
    "convolutions_tensor = generate_convolution_dict_parallelized()\n",
    "print(convolutions_tensor)\n",
    "\n",
    "sound_fts = {}\n",
    "sound_fts_reverse = {}\n",
    "for i, sound in enumerate(sound_dict):\n",
    "    sound_fts[i] = fft(sound, conv_matrix_width)\n",
    "    sound_fts_reverse[i] = fft(sound[::-1], conv_matrix_width)\n",
    "\n",
    "algo(target, 2)"
   ]
  },
  {
   "cell_type": "code",
   "execution_count": 30,
   "metadata": {},
   "outputs": [
    {
     "name": "stdout",
     "output_type": "stream",
     "text": [
      "Convolution matrix generated\n"
     ]
    }
   ],
   "source": [
    "result = algo(100)"
   ]
  },
  {
   "cell_type": "code",
   "execution_count": 31,
   "metadata": {},
   "outputs": [
    {
     "name": "stdout",
     "output_type": "stream",
     "text": [
      "51528\n"
     ]
    }
   ],
   "source": [
    "# see number of non-zero elements\n",
    "print(np.count_nonzero(result))\n",
    "# play result\n",
    "wavfile.write(\"result1000.wav\", 44100, result.astype(np.int16))"
   ]
  },
  {
   "cell_type": "code",
   "execution_count": 49,
   "metadata": {},
   "outputs": [
    {
     "data": {
      "text/plain": [
       "<contextlib._GeneratorContextManager at 0x7fef89a03160>"
      ]
     },
     "execution_count": 49,
     "metadata": {},
     "output_type": "execute_result"
    }
   ],
   "source": [
    "# add 1 significant digit numpy\n",
    "np.printoptions(formatter={\"float\": lambda x: \"{0:0.1f}\".format(x)})"
   ]
  },
  {
   "cell_type": "code",
   "execution_count": 24,
   "metadata": {},
   "outputs": [
    {
     "data": {
      "text/plain": [
       "array([1., 5., 9., 9.])"
      ]
     },
     "execution_count": 24,
     "metadata": {},
     "output_type": "execute_result"
    }
   ],
   "source": [
    "def convolve(x, y, n):\n",
    "    return np.real(ifft(fft(x[::-1], n) * fft(y, n)))\n",
    "\n",
    "\n",
    "x, y = [1, 2, 3], [3, 1]\n",
    "convolve(y, x, len(x) + len(y) - 1)"
   ]
  },
  {
   "cell_type": "code",
   "execution_count": 51,
   "metadata": {},
   "outputs": [
    {
     "ename": "TypeError",
     "evalue": "generate_convolution_matrix_looped() got an unexpected keyword argument 'D'",
     "output_type": "error",
     "traceback": [
      "\u001b[0;31m---------------------------------------------------------------------------\u001b[0m",
      "\u001b[0;31mTypeError\u001b[0m                                 Traceback (most recent call last)",
      "\u001b[1;32m/Users/calamos/Desktop/music_prize/fast_algo.ipynb Cell 17\u001b[0m line \u001b[0;36m1\n\u001b[1;32m      <a href='vscode-notebook-cell:/Users/calamos/Desktop/music_prize/fast_algo.ipynb#X20sZmlsZQ%3D%3D?line=6'>7</a>\u001b[0m z \u001b[39m=\u001b[39m fft(np\u001b[39m.\u001b[39marray([\u001b[39m1\u001b[39m, \u001b[39m2\u001b[39m, \u001b[39m3\u001b[39m]), \u001b[39m5\u001b[39m)\n\u001b[1;32m     <a href='vscode-notebook-cell:/Users/calamos/Desktop/music_prize/fast_algo.ipynb#X20sZmlsZQ%3D%3D?line=9'>10</a>\u001b[0m dictt \u001b[39m=\u001b[39m {\u001b[39m0\u001b[39m: x, \u001b[39m1\u001b[39m: y, \u001b[39m2\u001b[39m: z}\n\u001b[0;32m---> <a href='vscode-notebook-cell:/Users/calamos/Desktop/music_prize/fast_algo.ipynb#X20sZmlsZQ%3D%3D?line=11'>12</a>\u001b[0m generate_convolution_matrix_looped(z, dictt, D\u001b[39m=\u001b[39;49m\u001b[39m3\u001b[39;49m, conv_matrix_width\u001b[39m=\u001b[39;49m\u001b[39m5\u001b[39;49m)\n",
      "\u001b[0;31mTypeError\u001b[0m: generate_convolution_matrix_looped() got an unexpected keyword argument 'D'"
     ]
    }
   ],
   "source": [
    "def convolve(x, y, n):\n",
    "    return np.real(ifft(fft(x, n) * fft(y, n)))\n",
    "\n",
    "\n",
    "x = fft(np.array([1, 2]), 5)\n",
    "y = fft(np.array([2, 2]), 5)\n",
    "z = fft(np.array([1, 2, 3]), 5)\n",
    "\n",
    "\n",
    "dictt = {0: x, 1: y, 2: z}\n",
    "\n",
    "generate_convolution_matrix_looped(z, dictt, D=3, conv_matrix_width=5)"
   ]
  },
  {
   "cell_type": "code",
   "execution_count": 87,
   "metadata": {},
   "outputs": [],
   "source": [
    "if __name__ == \"__main__\":\n",
    "    convolution_matrix = generate_convolution_matrix()"
   ]
  },
  {
   "cell_type": "code",
   "execution_count": null,
   "metadata": {},
   "outputs": [],
   "source": []
  }
 ],
 "metadata": {
  "kernelspec": {
   "display_name": "base",
   "language": "python",
   "name": "python3"
  },
  "language_info": {
   "codemirror_mode": {
    "name": "ipython",
    "version": 3
   },
   "file_extension": ".py",
   "mimetype": "text/x-python",
   "name": "python",
   "nbconvert_exporter": "python",
   "pygments_lexer": "ipython3",
   "version": "3.8.13"
  },
  "orig_nbformat": 4
 },
 "nbformat": 4,
 "nbformat_minor": 2
}
