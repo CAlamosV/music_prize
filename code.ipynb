{
 "cells": [
  {
   "cell_type": "markdown",
   "metadata": {},
   "source": [
    "### Attempt 1: Discrete Time and Fourier Transform\n",
    "A sound is just a matrix with values between 0 and 1 (representing amplitude) where rows represent frequencies and columns represent time."
   ]
  },
  {
   "cell_type": "code",
   "execution_count": 17,
   "metadata": {},
   "outputs": [],
   "source": [
    "import numpy as np\n",
    "from scipy.io import wavfile\n",
    "from scipy.signal import stft\n",
    "import sounddevice as sd\n",
    "from scipy.signal import istft"
   ]
  },
  {
   "cell_type": "code",
   "execution_count": 22,
   "metadata": {},
   "outputs": [],
   "source": [
    "def wav_to_normalized_matrix(file_path, freqs = 100, noverlap=None):\n",
    "    sample_rate, audio_data = wavfile.read(file_path)\n",
    "    \n",
    "    print(f\"Sample rate: {sample_rate}\")  \n",
    "    print(f\"Audio data shape: {audio_data.shape}\")  \n",
    "\n",
    "    # Perform Short-Time Fourier Transform\n",
    "    f, t, Zxx = stft(np.mean(audio_data, axis=1), fs=sample_rate, nperseg=2*(freqs-1), noverlap=noverlap)\n",
    "\n",
    "    # Normalize the amplitude to [0, 1]\n",
    "    Zxx_normalized = (np.abs(Zxx) - np.min(amplitude)) / (np.max(amplitude) - np.min(amplitude))\n",
    "    \n",
    "    return Zxx_normalized\n"
   ]
  },
  {
   "cell_type": "code",
   "execution_count": 31,
   "metadata": {},
   "outputs": [
    {
     "name": "stdout",
     "output_type": "stream",
     "text": [
      "(100, 2709)\n"
     ]
    }
   ],
   "source": [
    "print(normalized_matrix.shape)  "
   ]
  },
  {
   "cell_type": "code",
   "execution_count": 30,
   "metadata": {},
   "outputs": [
    {
     "name": "stderr",
     "output_type": "stream",
     "text": [
      "/var/folders/7v/6lrll0c16r142j8200yccjz00000gn/T/ipykernel_5933/4077489128.py:2: WavFileWarning: Chunk (non-data) not understood, skipping it.\n",
      "  sample_rate, audio_data = wavfile.read(file_path)\n"
     ]
    },
    {
     "name": "stdout",
     "output_type": "stream",
     "text": [
      "Sample rate: 44100\n",
      "Audio data shape: (449519, 2)\n"
     ]
    }
   ],
   "source": [
    "file_path = \"samples/piano_melody.wav\"  \n",
    "freqs = 100  # Number of sounds\n",
    "noverlap = 32  # Number of overlapping points\n",
    "\n",
    "normalized_matrix = wav_to_normalized_matrix(file_path, freqs=freqs, noverlap=noverlap)"
   ]
  },
  {
   "cell_type": "code",
   "execution_count": 36,
   "metadata": {},
   "outputs": [],
   "source": [
    "def play_normalized_matrix(Zxx_normalized, sample_rate, nperseg=256, noverlap=128):\n",
    "    # Assuming the input matrix Zxx_normalized is normalized between [0, 1]\n",
    "    # You would need to apply inverse normalization if you have normalized the matrix previously.\n",
    "    # Here, we assume that the input is already the amplitude (not normalized), \n",
    "    # so no inverse normalization is applied.\n",
    "    \n",
    "    # Perform the Inverse Short-Time Fourier Transform (iSTFT)\n",
    "    _, audio_reconstructed = istft(Zxx_normalized, fs=sample_rate, nperseg=2*(freqs-1), noverlap=noverlap)\n",
    "    \n",
    "    # Play the audio\n",
    "    sd.play(audio_reconstructed, samplerate=sample_rate)\n",
    "    sd.wait()"
   ]
  },
  {
   "cell_type": "code",
   "execution_count": 37,
   "metadata": {},
   "outputs": [],
   "source": [
    "play_normalized_matrix(normalized_matrix, sample_rate, nperseg=nperseg, noverlap=noverlap)\n"
   ]
  },
  {
   "cell_type": "code",
   "execution_count": null,
   "metadata": {},
   "outputs": [],
   "source": []
  }
 ],
 "metadata": {
  "kernelspec": {
   "display_name": "base",
   "language": "python",
   "name": "python3"
  },
  "language_info": {
   "codemirror_mode": {
    "name": "ipython",
    "version": 3
   },
   "file_extension": ".py",
   "mimetype": "text/x-python",
   "name": "python",
   "nbconvert_exporter": "python",
   "pygments_lexer": "ipython3",
   "version": "3.8.13"
  },
  "orig_nbformat": 4
 },
 "nbformat": 4,
 "nbformat_minor": 2
}
