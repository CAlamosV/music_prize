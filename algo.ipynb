{
 "cells": [
  {
   "cell_type": "markdown",
   "metadata": {},
   "source": [
    "- Run m times: Run dfft for all dictionaries on target sound to get convolution\n",
    "    - Get highest value from convolution, add corresponding dictionary to solution\n",
    "    - Repeat until full target sound is covered\n",
    "    - Subtract solution from target sound"
   ]
  },
  {
   "cell_type": "code",
   "execution_count": null,
   "metadata": {},
   "outputs": [],
   "source": [
    "sound1 = np.array([1, 2])\n",
    "sound2 = np.array([2, 2, 3, 4])\n",
    "sound3 = np.array([1, 3, 2, 4])\n",
    "sound_dict = [sound1, sound2, sound3]\n",
    "D = len(sound_dict)\n",
    "l_max = 4\n",
    "conv_matrix_width = 2 * l_max - 1\n",
    "\n",
    "sound_fts = {}\n",
    "sound_fts_reverse = {}\n",
    "for i, sound in enumerate(sound_dict):\n",
    "    sound_fts[i] = fft(sound, conv_matrix_width)\n",
    "    sound_fts_reverse[i] = fft(sound[::-1], conv_matrix_width)\n",
    "\n",
    "generate_convolution_dict_parallelized()"
   ]
  },
  {
   "cell_type": "code",
   "execution_count": 76,
   "metadata": {},
   "outputs": [],
   "source": [
    "import numpy as np\n",
    "import time\n",
    "import matplotlib.pyplot as plt\n",
    "from scipy.fftpack import fft, ifft\n",
    "from scipy.io import wavfile\n",
    "from scipy.signal import stft\n",
    "import sounddevice as sd\n",
    "from scipy.signal import istft\n",
    "import os\n",
    "\n",
    "np.random.seed(0)"
   ]
  },
  {
   "cell_type": "code",
   "execution_count": 77,
   "metadata": {},
   "outputs": [],
   "source": [
    "def fft_convolution(T, d):\n",
    "    N, P = len(T), len(d)\n",
    "    T_fourier = fft(T, N + P - 1)\n",
    "    d_fourier = fft(d, N + P - 1)\n",
    "    result = np.real(ifft(T_fourier * d_fourier))\n",
    "    return result\n",
    "\n",
    "\n",
    "def generate_convolution(target):\n",
    "    convolution_matrix = np.zeros((D, N + l_max - 1))\n",
    "    for i, sound in enumerate(sound_dict):\n",
    "        convolution_result = fft_convolution(sound, target)\n",
    "        result_length = len(convolution_result)\n",
    "        # Place the convolution result in row i, padded with zeros on the right\n",
    "        convolution_matrix[i, :result_length] = convolution_result\n",
    "    return convolution_matrix\n",
    "\n",
    "\n",
    "def get_largest_value_index(matrix):\n",
    "    i, j = np.unravel_index(np.argmax(matrix, axis=None), matrix.shape)\n",
    "    return i, j, matrix[i, j]\n",
    "\n",
    "\n",
    "def generate_simultaneity_mask(i):\n",
    "    l = lengths[i]\n",
    "    mask = np.zeros((D, l + l_max - 1), dtype=bool)\n",
    "    len_broadcast = np.array(lengths)[:, np.newaxis]\n",
    "    range_array = np.arange(l + l_max - 1)[np.newaxis, :]\n",
    "    mask = range_array < (len_broadcast + l - 1)\n",
    "    return mask\n",
    "\n",
    "\n",
    "def remove_simultaneous_sounds(matrix, i, j):\n",
    "    mask = generate_simultaneity_mask(i)\n",
    "    starting_point = max(j - lengths[i] + 1, 0)\n",
    "    end_point = min(mask.shape[1] + starting_point, matrix.shape[1])\n",
    "    matrix[:, starting_point:end_point] *= ~mask[:, : end_point - starting_point]\n",
    "    return matrix"
   ]
  },
  {
   "cell_type": "code",
   "execution_count": 78,
   "metadata": {},
   "outputs": [],
   "source": [
    "# load target\n",
    "N = 105000\n",
    "_, target = wavfile.read(\"samples/target.wav\")\n",
    "target = target[:N]\n",
    "target = target.astype(np.float64)\n",
    "target_norm = np.linalg.norm(target)\n",
    "target /= target_norm\n",
    "\n",
    "# load roughly 0.1 seconds of every sound in sample folder\n",
    "files = os.listdir(\"samples/\")\n",
    "sound_dict = []\n",
    "for file in files:\n",
    "    if file != \"target.wav\":\n",
    "        _, sound = wavfile.read(\"samples/\" + file)\n",
    "        sound = sound[10500 : 21000 + np.random.randint(-2000, 5000)]\n",
    "        sound = sound.astype(np.float64)\n",
    "        norm = np.linalg.norm(sound)\n",
    "        if norm > 0:\n",
    "            sound /= norm\n",
    "        sound_dict.append(sound)\n",
    "\n",
    "D = len(sound_dict)\n",
    "sound_dict = sorted(sound_dict, key=lambda x: len(x))\n",
    "lengths = [len(sound) for sound in sound_dict]\n",
    "l_max = max(lengths)"
   ]
  },
  {
   "cell_type": "code",
   "execution_count": 67,
   "metadata": {},
   "outputs": [],
   "source": [
    "def algo(original_target, sound_dict, iterations=10):\n",
    "    target = original_target.copy()\n",
    "    result = np.zeros(N)\n",
    "    perm_mask = np.zeros((D, l_max + N - 1), dtype=bool)\n",
    "    max_val = np.inf\n",
    "    convolution_matrix_no_mask = generate_convolution(target)\n",
    "    for _ in range(iterations):\n",
    "        print(\"iteration \", _)\n",
    "        convolution_matrix = convolution_matrix_no_mask.copy()\n",
    "        while np.count_nonzero(convolution_matrix) > 0 and max_val > 0.01:\n",
    "            i, j, max_val = get_largest_value_index(convolution_matrix)\n",
    "            l = lengths[i]\n",
    "            # clipping to avoid out of bounds:\n",
    "            start_time, end_time = max(j - l + 1, 0), min(j + 1, N)\n",
    "            clip_start = max(-(j - l + 1), 0)\n",
    "            clip_end = min(clip_start + end_time - start_time, l)\n",
    "            matched_sound = max_val * sound_dict[i][clip_start:clip_end]\n",
    "            result[start_time:end_time] += matched_sound\n",
    "            target[start_time:end_time] -= matched_sound\n",
    "            perm_mask[i, start_time:end_time] = True\n",
    "            # print(\"nonzero vals: \", np.count_nonzero(convolution_matrix))\n",
    "            # print(\"max val: \" + str(np.round(max_val, 2)))\n",
    "            # print(\"i, j: \", i, j)\n",
    "            convolution_matrix = remove_simultaneous_sounds(convolution_matrix, i, j)\n",
    "        convolution_matrix_no_mask -= generate_convolution(result)\n",
    "        convolution_matrix_no_mask *= ~perm_mask\n",
    "    return result * target_norm"
   ]
  },
  {
   "cell_type": "code",
   "execution_count": null,
   "metadata": {},
   "outputs": [],
   "source": [
    "result = algo(target, sound_dict, 200)\n",
    "# save result\n",
    "# wavfile.write(\"result200.wav\", 44100, result.astype(np.int16))"
   ]
  },
  {
   "cell_type": "code",
   "execution_count": 13,
   "metadata": {},
   "outputs": [],
   "source": [
    "# np use 2 significant digits, remove scientific notation\n",
    "np.set_printoptions(suppress=True, precision=2)"
   ]
  },
  {
   "cell_type": "code",
   "execution_count": 93,
   "metadata": {},
   "outputs": [
    {
     "name": "stdout",
     "output_type": "stream",
     "text": [
      "target:  [59 78 15  4]\n",
      "sound_dict:  [array([1.]), array([0.7 , 0.71]), array([0.25, 0.6 , 0.76])]\n",
      "convolution_matrix: \n",
      " [[59.   78.   15.    4.    0.    0.  ]\n",
      " [41.43 96.78 66.07 13.49  2.85  0.  ]\n",
      " [14.94 55.08 95.33 69.26 13.79  3.04]]\n",
      "convolution_matrix: \n",
      " [[ 0.    0.   15.    4.    0.    0.  ]\n",
      " [ 0.    0.    0.   13.49  2.85  0.  ]\n",
      " [ 0.    0.    0.    0.   13.79  3.04]]\n",
      "i:  1\n",
      "j:  1\n",
      "max_val:  96.77731149169159\n",
      "target:  [59 78 15  4]\n",
      "target:  [-8  9 15  4]\n",
      "result:  [67.95 68.91  0.    0.  ]\n"
     ]
    }
   ],
   "source": [
    "# use small simulated data with randomness\n",
    "N = 4\n",
    "target = np.random.randint(0, 100, N)\n",
    "sound_dict = [np.random.randint(0, 100, 4 - i) for i in [1, 2, 3]]\n",
    "sound_dict = [sound / np.linalg.norm(sound) for sound in sound_dict]\n",
    "\n",
    "D = len(sound_dict)\n",
    "sound_dict = sorted(sound_dict, key=lambda x: len(x))\n",
    "lengths = [len(sound) for sound in sound_dict]\n",
    "l_max = max(lengths)\n",
    "result = np.zeros(N)\n",
    "\n",
    "print(\"target: \", target)\n",
    "print(\"sound_dict: \", sound_dict)\n",
    "\n",
    "convolution_matrix = generate_convolution(target)\n",
    "print(\"convolution_matrix: \\n\", convolution_matrix)\n",
    "i, j, max_val = get_largest_value_index(convolution_matrix)\n",
    "l = lengths[i]\n",
    "simultaneity_mask = generate_simultaneity_mask(i)\n",
    "convolution_matrix = remove_simultaneous_sounds(convolution_matrix, i, j)\n",
    "print(\"convolution_matrix: \\n\", convolution_matrix)\n",
    "print(\"i: \", i)\n",
    "print(\"j: \", j)\n",
    "print(\"max_val: \", max_val)\n",
    "\n",
    "print(\"target: \", target)\n",
    "target = remove_sound_from_target(\n",
    "    target, max_val * sound_dict[i][-min(0, i - l + 1) : l], j - l + 1\n",
    ")\n",
    "print(\"target: \", target)\n",
    "result[j - l + 1 : j + 1 + min(0, i - l + 1)] += (\n",
    "    max_val * sound_dict[i][-min(0, i - l + 1) : l]\n",
    ")\n",
    "print(\"result: \", result)"
   ]
  },
  {
   "cell_type": "code",
   "execution_count": 77,
   "metadata": {},
   "outputs": [
    {
     "name": "stdout",
     "output_type": "stream",
     "text": [
      "[[False False]\n",
      " [False False]\n",
      " [False False]]\n",
      "[[78 18 96]\n",
      " [91 36 20]\n",
      " [ 3 18 77]]\n"
     ]
    },
    {
     "data": {
      "text/plain": [
       "array([[78,  0,  0],\n",
       "       [91,  0,  0],\n",
       "       [ 3,  0,  0]])"
      ]
     },
     "execution_count": 77,
     "metadata": {},
     "output_type": "execute_result"
    }
   ],
   "source": [
    "# generate 3x3 matrix of random integers\n",
    "m = np.random.randint(0, 100, 9)\n",
    "m = m.reshape((3, 3))\n",
    "# matrix of 0s\n",
    "z = np.zeros((3, 2), dtype=bool)\n",
    "print(z)\n",
    "print(m)\n",
    "m[:, 1:] *= z\n",
    "m"
   ]
  },
  {
   "cell_type": "code",
   "execution_count": 58,
   "metadata": {},
   "outputs": [
    {
     "data": {
      "text/plain": [
       "'# Generate some test data\\nD = 5\\nN = 10\\nmatrix1 = np.random.rand(D, N)\\nlengths = np.array([1, 2, 2, 4, 5, 5])\\n\\n# Parameters for remove_simultaneous_sounds functions\\ni = 2\\nj = 5\\n\\nprint(matrix1)\\nprint(\"lengths: \", lengths)\\nprint(\"i: \", i)\\nprint(\"j: \", j)\\nprint(remove_simultaneous_sounds(matrix1, i, j))'"
      ]
     },
     "execution_count": 58,
     "metadata": {},
     "output_type": "execute_result"
    }
   ],
   "source": [
    "\"\"\"# Generate some test data\n",
    "D = 5\n",
    "N = 10\n",
    "matrix1 = np.random.rand(D, N)\n",
    "lengths = np.array([1, 2, 2, 4, 5, 5])\n",
    "\n",
    "# Parameters for remove_simultaneous_sounds functions\n",
    "i = 2\n",
    "j = 5\n",
    "\n",
    "print(matrix1)\n",
    "print(\"lengths: \", lengths)\n",
    "print(\"i: \", i)\n",
    "print(\"j: \", j)\n",
    "print(remove_simultaneous_sounds(matrix1, i, j))\"\"\""
   ]
  },
  {
   "cell_type": "code",
   "execution_count": null,
   "metadata": {},
   "outputs": [],
   "source": []
  }
 ],
 "metadata": {
  "kernelspec": {
   "display_name": "base",
   "language": "python",
   "name": "python3"
  },
  "language_info": {
   "codemirror_mode": {
    "name": "ipython",
    "version": 3
   },
   "file_extension": ".py",
   "mimetype": "text/x-python",
   "name": "python",
   "nbconvert_exporter": "python",
   "pygments_lexer": "ipython3",
   "version": "3.8.13"
  },
  "orig_nbformat": 4
 },
 "nbformat": 4,
 "nbformat_minor": 2
}
